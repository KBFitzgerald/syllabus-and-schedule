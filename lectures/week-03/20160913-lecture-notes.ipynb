{
 "cells": [
  {
   "cell_type": "markdown",
   "metadata": {},
   "source": [
    "# Week 3 lecture notes\n",
    "\n",
    "\n",
    "## Exercise 2 review - common mistakes\n",
    "\n",
    "### Including directories in paths\n",
    "\n",
    "If you create a file in a lower directory, then want to modify, move, or delete it, you have to use the directory to refer to it."
   ]
  },
  {
   "cell_type": "code",
   "execution_count": null,
   "metadata": {
    "collapsed": true
   },
   "outputs": [],
   "source": [
    "!mkdir mydirectory"
   ]
  },
  {
   "cell_type": "code",
   "execution_count": null,
   "metadata": {
    "collapsed": true
   },
   "outputs": [],
   "source": [
    "!ls > mydirectory/myfiles.txt"
   ]
  },
  {
   "cell_type": "code",
   "execution_count": null,
   "metadata": {
    "collapsed": false
   },
   "outputs": [],
   "source": [
    "!rm myfiles.txt"
   ]
  },
  {
   "cell_type": "code",
   "execution_count": null,
   "metadata": {
    "collapsed": true
   },
   "outputs": [],
   "source": [
    "!rm mydirectory/myfiles.txt"
   ]
  },
  {
   "cell_type": "code",
   "execution_count": null,
   "metadata": {
    "collapsed": true
   },
   "outputs": [],
   "source": [
    "!ls mydirectory"
   ]
  },
  {
   "cell_type": "markdown",
   "metadata": {},
   "source": [
    "### \">\" vs \">>\"\n",
    "\n",
    "Both \">\" and \">>\" redirect output from the screen to a file.  Both will create new files if none yet exists.  Only \">\" will overwrite an existing file; \">>\" will append to an existing file."
   ]
  },
  {
   "cell_type": "code",
   "execution_count": null,
   "metadata": {
    "collapsed": false
   },
   "outputs": [],
   "source": [
    "!date > datefile.txt"
   ]
  },
  {
   "cell_type": "code",
   "execution_count": null,
   "metadata": {
    "collapsed": false
   },
   "outputs": [],
   "source": [
    "!cat datefile.txt"
   ]
  },
  {
   "cell_type": "code",
   "execution_count": null,
   "metadata": {
    "collapsed": true
   },
   "outputs": [],
   "source": [
    "!date > datefile.txt"
   ]
  },
  {
   "cell_type": "code",
   "execution_count": null,
   "metadata": {
    "collapsed": false
   },
   "outputs": [],
   "source": [
    "!cat datefile.txt"
   ]
  },
  {
   "cell_type": "code",
   "execution_count": null,
   "metadata": {
    "collapsed": true
   },
   "outputs": [],
   "source": [
    "!date >> datefile.txt"
   ]
  },
  {
   "cell_type": "code",
   "execution_count": null,
   "metadata": {
    "collapsed": true
   },
   "outputs": [],
   "source": [
    "!date >> datefile.txt"
   ]
  },
  {
   "cell_type": "code",
   "execution_count": null,
   "metadata": {
    "collapsed": false
   },
   "outputs": [],
   "source": [
    "!cat datefile.txt"
   ]
  },
  {
   "cell_type": "markdown",
   "metadata": {},
   "source": [
    "### lower|sort|uniq or sort|lower|uniq\n",
    "\n",
    "Order matters!  Consider the text from exercise-02."
   ]
  },
  {
   "cell_type": "code",
   "execution_count": null,
   "metadata": {
    "collapsed": false
   },
   "outputs": [],
   "source": [
    "!wget https://github.com/gwsb-istm-6212-fall-2016/syllabus-and-schedule/raw/master/exercises/pg2500.txt"
   ]
  },
  {
   "cell_type": "code",
   "execution_count": null,
   "metadata": {
    "collapsed": false
   },
   "outputs": [],
   "source": [
    "!grep -oE '\\w{{2,}}' pg2500.txt | grep -v '^[0-9]' | uniq -c | head"
   ]
  },
  {
   "cell_type": "markdown",
   "metadata": {},
   "source": [
    "Among the set of three functions: {uniq, lower, sort} there are six orderings.  Which produce correct results, and why?\n",
    "\n",
    " * uniq, lower, sort\n",
    " * uniq, sort, lower\n",
    " * sort, lower, uniq\n",
    " * sort, uniq, lower\n",
    " * lower, sort, uniq\n",
    " * lower, uniq, sort"
   ]
  },
  {
   "cell_type": "code",
   "execution_count": null,
   "metadata": {
    "collapsed": false
   },
   "outputs": [],
   "source": [
    "!grep -oE '\\w{{2,}}' pg2500.txt | grep -v '^[0-9]' | uniq -c | tr '[:upper:]' '[:lower:]' | sort | head"
   ]
  },
  {
   "cell_type": "code",
   "execution_count": null,
   "metadata": {
    "collapsed": false
   },
   "outputs": [],
   "source": [
    "!grep -oE '\\w{{2,}}' pg2500.txt | grep -v '^[0-9]' | uniq -c | sort | tr '[:upper:]' '[:lower:]' | head"
   ]
  },
  {
   "cell_type": "code",
   "execution_count": null,
   "metadata": {
    "collapsed": false
   },
   "outputs": [],
   "source": [
    "!grep -oE '\\w{{2,}}' pg2500.txt | grep -v '^[0-9]' | sort | tr '[:upper:]' '[:lower:]' | uniq -c | head"
   ]
  },
  {
   "cell_type": "code",
   "execution_count": null,
   "metadata": {
    "collapsed": false
   },
   "outputs": [],
   "source": [
    "!grep -oE '\\w{{2,}}' pg2500.txt | grep -v '^[0-9]' | sort | uniq -c | tr '[:upper:]' '[:lower:]' | head"
   ]
  },
  {
   "cell_type": "code",
   "execution_count": null,
   "metadata": {
    "collapsed": false
   },
   "outputs": [],
   "source": [
    "!grep -oE '\\w{{2,}}' pg2500.txt | grep -v '^[0-9]' | tr '[:upper:]' '[:lower:]' | sort | uniq -c | head"
   ]
  },
  {
   "cell_type": "code",
   "execution_count": null,
   "metadata": {
    "collapsed": false
   },
   "outputs": [],
   "source": [
    "!grep -oE '\\w{{2,}}' pg2500.txt | grep -v '^[0-9]' | tr '[:upper:]' '[:lower:]' | uniq -c | sort | head "
   ]
  },
  {
   "cell_type": "markdown",
   "metadata": {},
   "source": [
    "### More about grep\n",
    "\n",
    "`grep` is a lot more powerful than what you've seen so far.  More than anything else, it's commonly used to find text within files.  For example, to find lines with \"Romeo\" in Romeo and Juliet:"
   ]
  },
  {
   "cell_type": "code",
   "execution_count": null,
   "metadata": {
    "collapsed": false
   },
   "outputs": [],
   "source": [
    "!grep Romeo romeo.txt | head"
   ]
  },
  {
   "cell_type": "markdown",
   "metadata": {},
   "source": [
    "There are many, many options, such as case-insensitivity:"
   ]
  },
  {
   "cell_type": "code",
   "execution_count": null,
   "metadata": {
    "collapsed": false
   },
   "outputs": [],
   "source": [
    "!grep -i what romeo.txt | head"
   ]
  },
  {
   "cell_type": "markdown",
   "metadata": {},
   "source": [
    "Another useful one is to print line numbers for matching lines:"
   ]
  },
  {
   "cell_type": "code",
   "execution_count": null,
   "metadata": {
    "collapsed": false
   },
   "outputs": [],
   "source": [
    "!grep -n Juliet romeo.txt | head"
   ]
  },
  {
   "cell_type": "markdown",
   "metadata": {},
   "source": [
    "We can also negate certain terms - show non-matches."
   ]
  },
  {
   "cell_type": "code",
   "execution_count": null,
   "metadata": {
    "collapsed": false
   },
   "outputs": [],
   "source": [
    "!grep -n Juliet romeo.txt | grep -v Romeo | head"
   ]
  },
  {
   "cell_type": "markdown",
   "metadata": {},
   "source": [
    "And one more useful tip is to match more than one thing:"
   ]
  },
  {
   "cell_type": "code",
   "execution_count": null,
   "metadata": {
    "collapsed": false
   },
   "outputs": [],
   "source": [
    "!grep \"Romeo\\|Juliet\" romeo.txt | head"
   ]
  },
  {
   "cell_type": "markdown",
   "metadata": {},
   "source": [
    "### Wildcards with \"*\"\n",
    "\n",
    "Sometimes you need to perform a task with a set of files that share a characteristic like a file extension.  The shell lessons had examples with `.pdb` files.  This is common.\n",
    "\n",
    "The `*` (asterisk, or just \"star\") is a wildcard, which matches zero-to-many characters."
   ]
  },
  {
   "cell_type": "code",
   "execution_count": null,
   "metadata": {
    "collapsed": false
   },
   "outputs": [],
   "source": [
    "!ls *.txt"
   ]
  },
  {
   "cell_type": "markdown",
   "metadata": {},
   "source": [
    "The `?` (question mark) is a wildcard that matches exactly one character."
   ]
  },
  {
   "cell_type": "code",
   "execution_count": null,
   "metadata": {
    "collapsed": false
   },
   "outputs": [],
   "source": [
    "!cp romeo.txt womeo.txt"
   ]
  },
  {
   "cell_type": "code",
   "execution_count": null,
   "metadata": {
    "collapsed": false
   },
   "outputs": [],
   "source": [
    "!ls ?omeo.txt"
   ]
  },
  {
   "cell_type": "code",
   "execution_count": null,
   "metadata": {
    "collapsed": false
   },
   "outputs": [],
   "source": [
    "!ls wome?.txt"
   ]
  },
  {
   "cell_type": "markdown",
   "metadata": {},
   "source": [
    "The difference is subtle - these two would have worked interchangeably on the above.  But note:"
   ]
  },
  {
   "cell_type": "code",
   "execution_count": null,
   "metadata": {
    "collapsed": false
   },
   "outputs": [],
   "source": [
    "!ls wo*.txt"
   ]
  },
  {
   "cell_type": "code",
   "execution_count": null,
   "metadata": {
    "collapsed": false
   },
   "outputs": [],
   "source": [
    "!ls wo?.txt"
   ]
  },
  {
   "cell_type": "markdown",
   "metadata": {},
   "source": [
    "See the difference?  The `*` can match more than one character; `?` only matches one. "
   ]
  },
  {
   "cell_type": "markdown",
   "metadata": {},
   "source": [
    "## Writing Python filters\n",
    "\n",
    "Starting with the `samplefilter.py` filter, let's write some of our own."
   ]
  },
  {
   "cell_type": "code",
   "execution_count": null,
   "metadata": {
    "collapsed": true
   },
   "outputs": [],
   "source": [
    "!chmod +x simplefilter.py"
   ]
  },
  {
   "cell_type": "code",
   "execution_count": null,
   "metadata": {
    "collapsed": false
   },
   "outputs": [],
   "source": [
    "!head pg2500.txt | ./simplefilter.py"
   ]
  },
  {
   "cell_type": "code",
   "execution_count": null,
   "metadata": {
    "collapsed": true
   },
   "outputs": [],
   "source": [
    "!cp simplefilter.py lower.py"
   ]
  },
  {
   "cell_type": "code",
   "execution_count": null,
   "metadata": {
    "collapsed": false
   },
   "outputs": [],
   "source": [
    "!head pg2500.txt | ./lower.py"
   ]
  },
  {
   "cell_type": "markdown",
   "metadata": {
    "collapsed": true
   },
   "source": [
    "## Working with GNU Parallel\n",
    "\n",
    "GNU Parallel is an easy to use but very powerful tool with a lot of options.  You can use it to process a lot of data easily and it can also make a big mess in a hurry.  For more examples, see the [tutorial page](https://www.gnu.org/software/parallel/parallel_tutorial.html).\n",
    "\n",
    "Let's start with something we've seen before:  splitting a text file up and counting its unique words."
   ]
  },
  {
   "cell_type": "code",
   "execution_count": null,
   "metadata": {
    "collapsed": false
   },
   "outputs": [],
   "source": [
    "!wc *.txt"
   ]
  },
  {
   "cell_type": "markdown",
   "metadata": {},
   "source": [
    "That's 25,875 lines and 218,062 words in the texts of Romeo and Juliet and Little Women.\n",
    "\n",
    "We can split them up into word counts one at a time like we did in exercise-02:"
   ]
  },
  {
   "cell_type": "code",
   "execution_count": null,
   "metadata": {
    "collapsed": false
   },
   "outputs": [],
   "source": [
    "!grep -oE '\\w{{2,}}' romeo.txt \\\n",
    "    | tr '[:upper:]' '[:lower:]' \\\n",
    "    | sort \\\n",
    "    | uniq -c \\\n",
    "    | sort -rn \\\n",
    "    | head -10"
   ]
  },
  {
   "cell_type": "markdown",
   "metadata": {},
   "source": [
    "Note that I've wrapped lines around by using the `\\` character.  To me, this looks easier to read - you can see each step of the pipeline one at a time.  The `\\` only means \"this shell line continues on the next line\".  The `|` still acts as the pipe.\n",
    "\n",
    "Let's look at a second book, Little Women.  We'll add `time` to get a sense of how long it takes."
   ]
  },
  {
   "cell_type": "code",
   "execution_count": null,
   "metadata": {
    "collapsed": false
   },
   "outputs": [],
   "source": [
    "!time grep -oE '\\w{{2,}}' women.txt \\\n",
    "    | tr '[:upper:]' '[:lower:]' \\\n",
    "    | sort \\\n",
    "    | uniq -c \\\n",
    "    | sort -rn \\\n",
    "    | head -10"
   ]
  },
  {
   "cell_type": "markdown",
   "metadata": {},
   "source": [
    "It looks like Little Women is much longer, which makes sense - it's a novel, not a play.  More text!\n",
    "\n",
    "To compare the two directly:"
   ]
  },
  {
   "cell_type": "code",
   "execution_count": null,
   "metadata": {
    "collapsed": false
   },
   "outputs": [],
   "source": [
    "!wc *.txt"
   ]
  },
  {
   "cell_type": "markdown",
   "metadata": {},
   "source": [
    "We can run through both files at once by giving both file names to `grep`:"
   ]
  },
  {
   "cell_type": "code",
   "execution_count": null,
   "metadata": {
    "collapsed": false
   },
   "outputs": [],
   "source": [
    "!time grep -oE '\\w{{2,}}' romeo.txt women.txt \\\n",
    "    | tr '[:upper:]' '[:lower:]' \\\n",
    "    | sort \\\n",
    "    | uniq -c \\\n",
    "    | sort -rn \\\n",
    "    | head -10"
   ]
  },
  {
   "cell_type": "markdown",
   "metadata": {},
   "source": [
    "Do those numbers look right?  \n",
    "\n",
    "Let's take a closer look at what's going on."
   ]
  },
  {
   "cell_type": "code",
   "execution_count": null,
   "metadata": {
    "collapsed": false
   },
   "outputs": [],
   "source": [
    "!time grep -oE '\\w{{2,}}' romeo.txt women.txt \\\n",
    "    | tr '[:upper:]' '[:lower:]' \\\n",
    "    | sort \\\n",
    "    | uniq -c \\\n",
    "    | grep \"and\" \\\n",
    "    | tail -10"
   ]
  },
  {
   "cell_type": "markdown",
   "metadata": {},
   "source": [
    "Aha!  `grep` is not-so-helpfully including the second filename on the lines matched from the second file, but not on the first.  That's why the counts are off.\n",
    "\n",
    "There's probably an option to tell `grep` not to do that.  But let's try something completely different.\n",
    "\n",
    "First, let's break the step into the **data parallel** piece.  For which part of this pipeline is completely data parallel?"
   ]
  },
  {
   "cell_type": "code",
   "execution_count": null,
   "metadata": {
    "collapsed": false
   },
   "outputs": [],
   "source": [
    "!time ls *.txt \\\n",
    "    | parallel -j+0 \"grep -oE '\\w{2,}' {} | tr '[:upper:]' '[:lower:]' >> all-words.txt\""
   ]
  },
  {
   "cell_type": "code",
   "execution_count": null,
   "metadata": {
    "collapsed": false
   },
   "outputs": [],
   "source": [
    "!time sort all-words.txt \\\n",
    "    | uniq -c \\\n",
    "    | sort -rn \\\n",
    "    | head -10"
   ]
  },
  {
   "cell_type": "markdown",
   "metadata": {},
   "source": [
    "See what we did there?  We parallelized the data, then brought it back together for the rest of the pipeline.\n",
    "\n",
    "Let's try it on a much bigger dataset.  (Note that we're unzipping into a new directory with `unzip -d`.)"
   ]
  },
  {
   "cell_type": "code",
   "execution_count": null,
   "metadata": {
    "collapsed": false
   },
   "outputs": [],
   "source": [
    "!unzip -d many-texts texts.zip"
   ]
  },
  {
   "cell_type": "code",
   "execution_count": null,
   "metadata": {
    "collapsed": false
   },
   "outputs": [],
   "source": [
    "!ls -l many-texts | wc -l"
   ]
  },
  {
   "cell_type": "code",
   "execution_count": null,
   "metadata": {
    "collapsed": true
   },
   "outputs": [],
   "source": [
    "!wc many-texts/*.txt"
   ]
  },
  {
   "cell_type": "code",
   "execution_count": null,
   "metadata": {
    "collapsed": false
   },
   "outputs": [],
   "source": [
    "!time ls many-texts/*.txt \\\n",
    "    | parallel --eta -j+0 \"grep -oE '\\w{2,}' {} | tr '[:upper:]' '[:lower:]' >> many-texts/all-words.txt\""
   ]
  },
  {
   "cell_type": "code",
   "execution_count": null,
   "metadata": {
    "collapsed": false
   },
   "outputs": [],
   "source": [
    "!time sort many-texts/all-words.txt \\\n",
    "    | uniq -c \\\n",
    "    | sort -rn \\\n",
    "    | head -10"
   ]
  },
  {
   "cell_type": "markdown",
   "metadata": {},
   "source": [
    "Let's say that in words:\n",
    "\n",
    "* Time this;\n",
    "* Get a list of all the `*.txt` files in `many-texts/`;\n",
    "* In parallel, extract their words, lower case them, and append them to `many-texts/all-words.txt`;\n",
    "* Sort, find unique words, and get a reverse numeric rank of the top 10 most frequently occurring words.\n",
    "\n",
    "More precisely on that parallel step:\n",
    "\n",
    "* Among all those files listed;\n",
    "* Whenever there is an available core for processing, give it one file to process through the pipeline;\n",
    "* When each job is done, the core is available for processing again;\n",
    "* Continue until there are no jobs waiting.\n",
    "\n",
    "That's data parallelism.\n",
    "\n",
    "### Questions for you\n",
    "\n",
    "How much faster or slower would we go if we did each file one at a time?\n",
    "\n",
    "What's the bottleneck here?"
   ]
  }
 ],
 "metadata": {
  "anaconda-cloud": {},
  "kernelspec": {
   "display_name": "Python [default]",
   "language": "python",
   "name": "python3"
  },
  "language_info": {
   "codemirror_mode": {
    "name": "ipython",
    "version": 3
   },
   "file_extension": ".py",
   "mimetype": "text/x-python",
   "name": "python",
   "nbconvert_exporter": "python",
   "pygments_lexer": "ipython3",
   "version": "3.5.2"
  }
 },
 "nbformat": 4,
 "nbformat_minor": 0
}
