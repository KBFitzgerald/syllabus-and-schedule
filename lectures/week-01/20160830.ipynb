{
 "cells": [
  {
   "cell_type": "markdown",
   "metadata": {},
   "source": [
    "# Week 1 - Jupyter basics\n",
    "\n",
    "Tuesday, 2016-08-30\n",
    "\n",
    "[Jupyter](http://jupyter.org) is a web-based notebook system with a rich ecosystem of related tools around it.  You are looking at the core tool, the notebook, right now.\n",
    "\n",
    "A Jupyter notebook is a document you access primarily through the web.  It comprises *cells* which may include executable code or markup text.  This paragraph is marked up text, and we'll look at that more closely in a moment.\n",
    "\n",
    "Let's look at the code first.\n",
    "\n",
    "## Executable code cells"
   ]
  },
  {
   "cell_type": "markdown",
   "metadata": {},
   "source": [
    "A quick example:"
   ]
  },
  {
   "cell_type": "code",
   "execution_count": 2,
   "metadata": {
    "collapsed": false
   },
   "outputs": [
    {
     "name": "stdout",
     "output_type": "stream",
     "text": [
      "Hello, world!\n"
     ]
    }
   ],
   "source": [
    "print('Hello, world!')"
   ]
  },
  {
   "cell_type": "markdown",
   "metadata": {},
   "source": [
    "In the cell above you can see a brief snippet of python code, followed by the output it created after being executed.  It is an executable code cell.  The code is executed by hitting the \"play one step\" button above.  The output only appears after you execute it, and even after you execute it you can change the code and execute it again.\n",
    "\n",
    "Look at the information to the left of the cell:  it says `In [1]:` or something similar.  The number inside the brackets indicates that the cell has been executed, and the cardinality of the number indicates which cells were executed in which order.\n",
    "\n",
    "To demonstrate, here comes another code cell.  We'll execute one, and then the other.  Watch the numbers appear and change as we do."
   ]
  },
  {
   "cell_type": "code",
   "execution_count": 3,
   "metadata": {
    "collapsed": false
   },
   "outputs": [
    {
     "name": "stdout",
     "output_type": "stream",
     "text": [
      "Hi back!\n"
     ]
    }
   ],
   "source": [
    "print('Hi back!')"
   ]
  },
  {
   "cell_type": "markdown",
   "metadata": {},
   "source": [
    "See how that works?\n",
    "\n",
    "It's important to keep the order of execution in mind.  It is typical to execute cells in order, but when you work in a notebook, sometimes you go back and make changes.  Just like in a paper notebook!  If you do that, and execute the cells out of order, you might get different results.  \n",
    "\n",
    "For example:"
   ]
  },
  {
   "cell_type": "code",
   "execution_count": 21,
   "metadata": {
    "collapsed": true
   },
   "outputs": [],
   "source": [
    "x = 1"
   ]
  },
  {
   "cell_type": "code",
   "execution_count": 22,
   "metadata": {
    "collapsed": false
   },
   "outputs": [
    {
     "data": {
      "text/plain": [
       "1"
      ]
     },
     "execution_count": 22,
     "metadata": {},
     "output_type": "execute_result"
    }
   ],
   "source": [
    "x"
   ]
  },
  {
   "cell_type": "code",
   "execution_count": 23,
   "metadata": {
    "collapsed": true
   },
   "outputs": [],
   "source": [
    "x += 1"
   ]
  },
  {
   "cell_type": "code",
   "execution_count": 24,
   "metadata": {
    "collapsed": false
   },
   "outputs": [
    {
     "data": {
      "text/plain": [
       "2"
      ]
     },
     "execution_count": 24,
     "metadata": {},
     "output_type": "execute_result"
    }
   ],
   "source": [
    "x"
   ]
  },
  {
   "cell_type": "markdown",
   "metadata": {},
   "source": [
    "## How Jupyter talks to Python\n",
    "\n",
    "Jupyter doesn't have Python running inside it within your web page.  Instead, it talks to Python running on the backend, called a *kernel*.  Here's a [detailed explanation, with diagrams](http://jupyter.readthedocs.io/en/latest/architecture/how_jupyter_ipython_work.html) of how it works.\n",
    "\n",
    "Because of this component architecture, it's easy to swap in different kernels.  For example, you can use either Python 2 or Python 3 kernels.  (In this class, we'll use Python 3.)  You can also use an R kernel and other languages.  It's pretty nifty."
   ]
  },
  {
   "cell_type": "markdown",
   "metadata": {},
   "source": [
    "## Text markup w/Markdown cells\n",
    "\n",
    "These headlines and paragraphs that include text and formatting but not executable code are called Markdown cells.  [Markdown](https://github.com/adam-p/markdown-here/wiki/Markdown-Cheatsheet) (follow links to John Gruber's original site if you're interested) is an easy to use system of formatting text (or \"marking it up\") to be rendered into HTML.  You can create things like:\n",
    "\n",
    "# Titles\n",
    "## At\n",
    "### Various\n",
    "#### Levels\n",
    "##### Of\n",
    "###### Depth\n",
    "\n",
    "* And\n",
    "* Bullet\n",
    "* Lists"
   ]
  },
  {
   "cell_type": "markdown",
   "metadata": {},
   "source": [
    "Just for fun, here's the Markdown that created that marked up text above."
   ]
  },
  {
   "cell_type": "markdown",
   "metadata": {},
   "source": [
    "```\n",
    "## Text markup w/Markdown cells\n",
    "\n",
    "These headlines and paragraphs that include text and formatting but not executable code are called Markdown cells.  [Markdown](https://github.com/adam-p/markdown-here/wiki/Markdown-Cheatsheet) (follow links to John Gruber's original site if you're interested) is an easy to use system of formatting text (or \"marking it up\") to be rendered into HTML.  You can create things like:\n",
    "\n",
    "# Titles\n",
    "## At\n",
    "### Various\n",
    "#### Levels\n",
    "##### Of\n",
    "###### Depth\n",
    "\n",
    "* And\n",
    "* Bullet\n",
    "* Lists\n",
    "```"
   ]
  },
  {
   "cell_type": "markdown",
   "metadata": {},
   "source": [
    "See how easy it is?\n",
    "\n",
    "To create a Markdown cell, just toggle the toolbar up above from `Code` to `Markdown`.  When you've marked up your text to your liking, execute it just like you would execute a code cell.\n",
    "\n",
    "If you want to go back and change a cell you've already executed, just click on it."
   ]
  },
  {
   "cell_type": "markdown",
   "metadata": {},
   "source": [
    "## Keyboard shortcuts\n",
    "\n",
    "I'm more of a typer than a clicker, so if you're like me and you don't want to click around all the time, you'll want to learn these handy shortcuts.\n",
    "\n",
    "* up-arrow - move up a cell\n",
    "* down-arrow - move down a cell\n",
    "* return - select the current cell for editing\n",
    "* ctrl-return - execute the current cell\n",
    "* shift-return - execute the current cell, and move to the next cell (create a new one, too, if needed)\n",
    "* esc, a - add a new cell above the currently selected cell\n",
    "* esc, b - add a new cell below the currently selected cell\n",
    "* esc, m - convert the current cell type to Markdown\n",
    "\n",
    "That's the short list of what I use all the time.  There's a full list under `Help -> Keyboard shortcuts`.\n",
    "\n",
    "Another handy tool is the command palette, which you can activate by clicking the little keyboard button above.  Do that, then type in \"command palette\" to get a feel for how it works - it's a quick tool for accessing all Jupyter functions by name, and it shows their keyboard shortcuts, too."
   ]
  },
  {
   "cell_type": "markdown",
   "metadata": {},
   "source": [
    "## More interface details\n",
    "\n",
    "Some additional points to note:\n",
    "\n",
    "* The title of the current notebook is at the top.  You can click it to change it.\n",
    "* The notebook will be saved automatically to disk on the server from time to time, and you can save it yourself using the menu or the save button.\n",
    "* At the top right it should say *Python 3*.  This indicates that you are connected to a Python 3 kernel.\n",
    "* Sometimes you will want to \"clean up\" a notebook to run its cells again from the top.  Experiment with the *Cell* menu items to see your options.\n",
    "* Sometimes a connection with the kernel will go bad.  This can happen for a number of reasons, and while it shouldn't happen often, it happens enough that you should experiment with the *Kernel* menu as well to see your options."
   ]
  },
  {
   "cell_type": "markdown",
   "metadata": {},
   "source": [
    "## Access to other tools\n",
    "\n",
    "Editing a notebook is not the only thing you can do in Jupyter.  You can also open a terminal, and edit a text file.\n",
    "\n",
    "(Go back to the first Jupyter tab and start a terminal, and open a text file.)\n",
    "\n",
    "When you're done with a terminal or a text file, you can just close those tabs.  The terminal and text files you opened will close when you do."
   ]
  },
  {
   "cell_type": "markdown",
   "metadata": {},
   "source": [
    "## Shelling out\n",
    "\n",
    "For your first exercise and the next few weeks, you'll mostly want to communicate with the shell using shell commands, not using Python.  To do that, just place an exclamation point (`!`) in front of the command, like this:"
   ]
  },
  {
   "cell_type": "code",
   "execution_count": 25,
   "metadata": {
    "collapsed": false
   },
   "outputs": [
    {
     "name": "stdout",
     "output_type": "stream",
     "text": [
      "/Users/dchud/Documents/Dropbox/teach/2016-fall-data-management/lectures\r\n"
     ]
    }
   ],
   "source": [
    "!pwd"
   ]
  },
  {
   "cell_type": "code",
   "execution_count": 31,
   "metadata": {
    "collapsed": false
   },
   "outputs": [
    {
     "name": "stdout",
     "output_type": "stream",
     "text": [
      "\u001b[34m.\u001b[m\u001b[m                      \u001b[34m.ipynb_checkpoints\u001b[m\u001b[m\r\n",
      "\u001b[34m..\u001b[m\u001b[m                     week-01-20160830.ipynb\r\n"
     ]
    }
   ],
   "source": [
    "!ls -a"
   ]
  },
  {
   "cell_type": "code",
   "execution_count": 27,
   "metadata": {
    "collapsed": false
   },
   "outputs": [
    {
     "name": "stdout",
     "output_type": "stream",
     "text": [
      "dchud\r\n"
     ]
    }
   ],
   "source": [
    "!whoami"
   ]
  },
  {
   "cell_type": "code",
   "execution_count": 28,
   "metadata": {
    "collapsed": false
   },
   "outputs": [
    {
     "name": "stdout",
     "output_type": "stream",
     "text": [
      "Tue Aug 30 15:27:50 EDT 2016\r\n"
     ]
    }
   ],
   "source": [
    "!date"
   ]
  },
  {
   "cell_type": "markdown",
   "metadata": {},
   "source": [
    "Every one of those cells above executed in the *shell*, like in the terminal, *not* within the Python kernel.  It can be a little confusing at first, but you'll get the hang of it.  Just to be clear, you can also access the same information with Python, e.g.:"
   ]
  },
  {
   "cell_type": "code",
   "execution_count": 30,
   "metadata": {
    "collapsed": false
   },
   "outputs": [
    {
     "data": {
      "text/plain": [
       "['.ipynb_checkpoints', 'week-01-20160830.ipynb']"
      ]
     },
     "execution_count": 30,
     "metadata": {},
     "output_type": "execute_result"
    }
   ],
   "source": [
    "import os\n",
    "os.listdir()"
   ]
  },
  {
   "cell_type": "markdown",
   "metadata": {},
   "source": [
    "## Export and upload\n",
    "\n",
    "An important function in Jupyter - or at least one we'll use a lot this semester - is the ability to upload and export notebooks and other files.  You can upload a notebook to Jupyter using the *Upload* button at the top right of the file listing, just next to the *New* button where you can start a new notebook.\n",
    "\n",
    "You can download or export a notebook from within the notebook by using *File -> Download as -> Notebook* or any of the other options.\n",
    "\n",
    "In our class, you'll often download a notebook from GitHub, upload it to a Jupyter instance, run the notebook, and export it again to store a local copy or send it back to GitHub.  You'll get used to this, too!"
   ]
  },
  {
   "cell_type": "markdown",
   "metadata": {},
   "source": [
    "## Our class notebook server\n",
    "\n",
    "I have set up a Jupyter server for you to use at [datanotebook.org](http://datanotebook.org/).  This is a bank of servers running on Amazon Web Services (AWS) just for you.  They are configured to host multiple notebooks at once, and to start more servers to host more notebook when many of you are using notebooks at once, such as during class.\n",
    "\n",
    "**Important**: when you use datanotebook.org, your Jupyter instance is always **temporary**.  It will go away.  It is designed this way to handle 50 students using notebooks at once without costing your instructor a fortune.  Because of this, when you are working on an assignment, be sure to save your work regularly by downloading it to your local machine.  Probably a good habit would be to save a copy every 5-10 minutes.\n",
    "\n",
    "If you leave your notebook open for more than a half hour without making any changes, the server may expire, and you can lose your work.\n",
    "\n",
    "Similarly, if you use a notebook for more than three hours, the server may expire.\n",
    "\n",
    "The lesson is:  **always save your work**.  Save a copy locally, and when you're ready, upload it to GitHub.\n",
    "\n",
    "You are the first people to test this out.  It might not work!  Please be patient if it doesn't.  Let me know what you see going wrong and I'll do what I can to adjust the configuration so it doesn't happen again."
   ]
  }
 ],
 "metadata": {
  "kernelspec": {
   "display_name": "Python 3",
   "language": "python",
   "name": "python3"
  },
  "language_info": {
   "codemirror_mode": {
    "name": "ipython",
    "version": 3
   },
   "file_extension": ".py",
   "mimetype": "text/x-python",
   "name": "python",
   "nbconvert_exporter": "python",
   "pygments_lexer": "ipython3",
   "version": "3.5.2"
  }
 },
 "nbformat": 4,
 "nbformat_minor": 1
}
