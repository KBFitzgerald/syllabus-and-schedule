{
 "cells": [
  {
   "cell_type": "code",
   "execution_count": 1,
   "metadata": {
    "collapsed": false
   },
   "outputs": [
    {
     "name": "stdout",
     "output_type": "stream",
     "text": [
      "jovyan\r\n"
     ]
    }
   ],
   "source": [
    "!whoami"
   ]
  },
  {
   "cell_type": "code",
   "execution_count": 2,
   "metadata": {
    "collapsed": false
   },
   "outputs": [
    {
     "name": "stdout",
     "output_type": "stream",
     "text": [
      "/home/jovyan/work\r\n"
     ]
    }
   ],
   "source": [
    "!pwd"
   ]
  },
  {
   "cell_type": "code",
   "execution_count": 3,
   "metadata": {
    "collapsed": true
   },
   "outputs": [],
   "source": [
    "!cd ."
   ]
  },
  {
   "cell_type": "code",
   "execution_count": 4,
   "metadata": {
    "collapsed": false
   },
   "outputs": [
    {
     "name": "stdout",
     "output_type": "stream",
     "text": [
      "/home/jovyan/work\r\n"
     ]
    }
   ],
   "source": [
    "!pwd"
   ]
  },
  {
   "cell_type": "code",
   "execution_count": 5,
   "metadata": {
    "collapsed": false
   },
   "outputs": [
    {
     "name": "stdout",
     "output_type": "stream",
     "text": [
      "/bin/pwd\r\n"
     ]
    }
   ],
   "source": [
    "!which pwd"
   ]
  },
  {
   "cell_type": "code",
   "execution_count": 6,
   "metadata": {
    "collapsed": false
   },
   "outputs": [
    {
     "name": "stdout",
     "output_type": "stream",
     "text": [
      "/usr/bin/whoami\r\n"
     ]
    }
   ],
   "source": [
    "!which whoami"
   ]
  },
  {
   "cell_type": "code",
   "execution_count": 8,
   "metadata": {
    "collapsed": false
   },
   "outputs": [
    {
     "name": "stdout",
     "output_type": "stream",
     "text": [
      "/opt/conda/bin:/usr/local/sbin:/usr/local/bin:/usr/sbin:/usr/bin:/sbin:/bin\r\n"
     ]
    }
   ],
   "source": [
    "!echo $PATH"
   ]
  },
  {
   "cell_type": "code",
   "execution_count": 9,
   "metadata": {
    "collapsed": false
   },
   "outputs": [
    {
     "name": "stdout",
     "output_type": "stream",
     "text": [
      "total 4\r\n",
      "-rw-r--r-- 1 jovyan users 2439 Sep  7 01:01 week-02-lecture-notes.ipynb\r\n"
     ]
    }
   ],
   "source": [
    "!ls -l"
   ]
  },
  {
   "cell_type": "code",
   "execution_count": 14,
   "metadata": {
    "collapsed": false
   },
   "outputs": [
    {
     "name": "stdout",
     "output_type": "stream",
     "text": [
      "total 12K\r\n",
      "drwxr-xr-x 10 jovyan users 4.0K Sep  1 21:42 ..\r\n",
      "-rw-r--r--  1 jovyan users 3.1K Sep  7 01:03 week-02-lecture-notes.ipynb\r\n",
      "-rw-r--r--  1 root   root  1.4K Sep  1 21:39 .nbgrader.log\r\n",
      "drwxr-xr-x  3 jovyan users   85 Sep  7 01:03 .\r\n",
      "drwxr-xr-x  2 jovyan users   51 Sep  7 00:51 .ipynb_checkpoints\r\n"
     ]
    }
   ],
   "source": [
    "!ls -lahS"
   ]
  },
  {
   "cell_type": "code",
   "execution_count": 15,
   "metadata": {
    "collapsed": false
   },
   "outputs": [
    {
     "name": "stdout",
     "output_type": "stream",
     "text": [
      "Usage: ls [OPTION]... [FILE]...\r\n",
      "List information about the FILEs (the current directory by default).\r\n",
      "Sort entries alphabetically if none of -cftuvSUX nor --sort is specified.\r\n",
      "\r\n",
      "Mandatory arguments to long options are mandatory for short options too.\r\n",
      "  -a, --all                  do not ignore entries starting with .\r\n",
      "  -A, --almost-all           do not list implied . and ..\r\n",
      "      --author               with -l, print the author of each file\r\n",
      "  -b, --escape               print C-style escapes for nongraphic characters\r\n",
      "      --block-size=SIZE      scale sizes by SIZE before printing them; e.g.,\r\n",
      "                               '--block-size=M' prints sizes in units of\r\n",
      "                               1,048,576 bytes; see SIZE format below\r\n",
      "  -B, --ignore-backups       do not list implied entries ending with ~\r\n",
      "  -c                         with -lt: sort by, and show, ctime (time of last\r\n",
      "                               modification of file status information);\r\n",
      "                               with -l: show ctime and sort by name;\r\n",
      "                               otherwise: sort by ctime, newest first\r\n",
      "  -C                         list entries by columns\r\n",
      "      --color[=WHEN]         colorize the output; WHEN can be 'never', 'auto',\r\n",
      "                               or 'always' (the default); more info below\r\n",
      "  -d, --directory            list directories themselves, not their contents\r\n",
      "  -D, --dired                generate output designed for Emacs' dired mode\r\n",
      "  -f                         do not sort, enable -aU, disable -ls --color\r\n",
      "  -F, --classify             append indicator (one of */=>@|) to entries\r\n",
      "      --file-type            likewise, except do not append '*'\r\n",
      "      --format=WORD          across -x, commas -m, horizontal -x, long -l,\r\n",
      "                               single-column -1, verbose -l, vertical -C\r\n",
      "      --full-time            like -l --time-style=full-iso\r\n",
      "  -g                         like -l, but do not list owner\r\n",
      "      --group-directories-first\r\n",
      "                             group directories before files;\r\n",
      "                               can be augmented with a --sort option, but any\r\n",
      "                               use of --sort=none (-U) disables grouping\r\n",
      "  -G, --no-group             in a long listing, don't print group names\r\n",
      "  -h, --human-readable       with -l and/or -s, print human readable sizes\r\n",
      "                               (e.g., 1K 234M 2G)\r\n",
      "      --si                   likewise, but use powers of 1000 not 1024\r\n",
      "  -H, --dereference-command-line\r\n",
      "                             follow symbolic links listed on the command line\r\n",
      "      --dereference-command-line-symlink-to-dir\r\n",
      "                             follow each command line symbolic link\r\n",
      "                               that points to a directory\r\n",
      "      --hide=PATTERN         do not list implied entries matching shell PATTERN\r\n",
      "                               (overridden by -a or -A)\r\n",
      "      --indicator-style=WORD  append indicator with style WORD to entry names:\r\n",
      "                               none (default), slash (-p),\r\n",
      "                               file-type (--file-type), classify (-F)\r\n",
      "  -i, --inode                print the index number of each file\r\n",
      "  -I, --ignore=PATTERN       do not list implied entries matching shell PATTERN\r\n",
      "  -k, --kibibytes            default to 1024-byte blocks for disk usage\r\n",
      "  -l                         use a long listing format\r\n",
      "  -L, --dereference          when showing file information for a symbolic\r\n",
      "                               link, show information for the file the link\r\n",
      "                               references rather than for the link itself\r\n",
      "  -m                         fill width with a comma separated list of entries\r\n",
      "  -n, --numeric-uid-gid      like -l, but list numeric user and group IDs\r\n",
      "  -N, --literal              print raw entry names (don't treat e.g. control\r\n",
      "                               characters specially)\r\n",
      "  -o                         like -l, but do not list group information\r\n",
      "  -p, --indicator-style=slash\r\n",
      "                             append / indicator to directories\r\n",
      "  -q, --hide-control-chars   print ? instead of nongraphic characters\r\n",
      "      --show-control-chars   show nongraphic characters as-is (the default,\r\n",
      "                               unless program is 'ls' and output is a terminal)\r\n",
      "  -Q, --quote-name           enclose entry names in double quotes\r\n",
      "      --quoting-style=WORD   use quoting style WORD for entry names:\r\n",
      "                               literal, locale, shell, shell-always, c, escape\r\n",
      "  -r, --reverse              reverse order while sorting\r\n",
      "  -R, --recursive            list subdirectories recursively\r\n",
      "  -s, --size                 print the allocated size of each file, in blocks\r\n",
      "  -S                         sort by file size\r\n",
      "      --sort=WORD            sort by WORD instead of name: none (-U), size (-S),\r\n",
      "                               time (-t), version (-v), extension (-X)\r\n",
      "      --time=WORD            with -l, show time as WORD instead of default\r\n",
      "                               modification time: atime or access or use (-u)\r\n",
      "                               ctime or status (-c); also use specified time\r\n",
      "                               as sort key if --sort=time\r\n",
      "      --time-style=STYLE     with -l, show times using style STYLE:\r\n",
      "                               full-iso, long-iso, iso, locale, or +FORMAT;\r\n",
      "                               FORMAT is interpreted like in 'date'; if FORMAT\r\n",
      "                               is FORMAT1<newline>FORMAT2, then FORMAT1 applies\r\n",
      "                               to non-recent files and FORMAT2 to recent files;\r\n",
      "                               if STYLE is prefixed with 'posix-', STYLE\r\n",
      "                               takes effect only outside the POSIX locale\r\n",
      "  -t                         sort by modification time, newest first\r\n",
      "  -T, --tabsize=COLS         assume tab stops at each COLS instead of 8\r\n",
      "  -u                         with -lt: sort by, and show, access time;\r\n",
      "                               with -l: show access time and sort by name;\r\n",
      "                               otherwise: sort by access time\r\n",
      "  -U                         do not sort; list entries in directory order\r\n",
      "  -v                         natural sort of (version) numbers within text\r\n",
      "  -w, --width=COLS           assume screen width instead of current value\r\n",
      "  -x                         list entries by lines instead of by columns\r\n",
      "  -X                         sort alphabetically by entry extension\r\n",
      "  -Z, --context              print any security context of each file\r\n",
      "  -1                         list one file per line\r\n",
      "      --help     display this help and exit\r\n",
      "      --version  output version information and exit\r\n",
      "\r\n",
      "The SIZE argument is an integer and optional unit (example: 10K is 10*1024).\r\n",
      "Units are K,M,G,T,P,E,Z,Y (powers of 1024) or KB,MB,... (powers of 1000).\r\n",
      "\r\n",
      "Using color to distinguish file types is disabled both by default and\r\n",
      "with --color=never.  With --color=auto, ls emits color codes only when\r\n",
      "standard output is connected to a terminal.  The LS_COLORS environment\r\n",
      "variable can change the settings.  Use the dircolors command to set it.\r\n",
      "\r\n",
      "Exit status:\r\n",
      " 0  if OK,\r\n",
      " 1  if minor problems (e.g., cannot access subdirectory),\r\n",
      " 2  if serious trouble (e.g., cannot access command-line argument).\r\n",
      "\r\n",
      "GNU coreutils online help: <http://www.gnu.org/software/coreutils/>\r\n",
      "Full documentation at: <http://www.gnu.org/software/coreutils/ls>\r\n",
      "or available locally via: info '(coreutils) ls invocation'\r\n"
     ]
    }
   ],
   "source": [
    "!ls --help"
   ]
  },
  {
   "cell_type": "code",
   "execution_count": 16,
   "metadata": {
    "collapsed": false
   },
   "outputs": [
    {
     "name": "stdout",
     "output_type": "stream",
     "text": [
      "week-02-lecture-notes.ipynb\r\n"
     ]
    }
   ],
   "source": [
    "!ls"
   ]
  },
  {
   "cell_type": "code",
   "execution_count": 17,
   "metadata": {
    "collapsed": false
   },
   "outputs": [
    {
     "name": "stdout",
     "output_type": "stream",
     "text": [
      "{\r\n",
      " \"cells\": [\r\n",
      "  {\r\n",
      "   \"cell_type\": \"code\",\r\n",
      "   \"execution_count\": 1,\r\n",
      "   \"metadata\": {\r\n",
      "    \"collapsed\": false\r\n",
      "   },\r\n",
      "   \"outputs\": [\r\n",
      "    {\r\n",
      "     \"name\": \"stdout\",\r\n",
      "     \"output_type\": \"stream\",\r\n",
      "     \"text\": [\r\n",
      "      \"jovyan\\r\\n\"\r\n",
      "     ]\r\n",
      "    }\r\n",
      "   ],\r\n",
      "   \"source\": [\r\n",
      "    \"!whoami\"\r\n",
      "   ]\r\n",
      "  },\r\n",
      "  {\r\n",
      "   \"cell_type\": \"code\",\r\n",
      "   \"execution_count\": 2,\r\n",
      "   \"metadata\": {\r\n",
      "    \"collapsed\": false\r\n",
      "   },\r\n",
      "   \"outputs\": [\r\n",
      "    {\r\n",
      "     \"name\": \"stdout\",\r\n",
      "     \"output_type\": \"stream\",\r\n",
      "     \"text\": [\r\n",
      "      \"/home/jovyan/work\\r\\n\"\r\n",
      "     ]\r\n",
      "    }\r\n",
      "   ],\r\n",
      "   \"source\": [\r\n",
      "    \"!pwd\"\r\n",
      "   ]\r\n",
      "  },\r\n",
      "  {\r\n",
      "   \"cell_type\": \"code\",\r\n",
      "   \"execution_count\": 3,\r\n",
      "   \"metadata\": {\r\n",
      "    \"collapsed\": true\r\n",
      "   },\r\n",
      "   \"outputs\": [],\r\n",
      "   \"source\": [\r\n",
      "    \"!cd .\"\r\n",
      "   ]\r\n",
      "  },\r\n",
      "  {\r\n",
      "   \"cell_type\": \"code\",\r\n",
      "   \"execution_count\": 4,\r\n",
      "   \"metadata\": {\r\n",
      "    \"collapsed\": false\r\n",
      "   },\r\n",
      "   \"outputs\": [\r\n",
      "    {\r\n",
      "     \"name\": \"stdout\",\r\n",
      "     \"output_type\": \"stream\",\r\n",
      "     \"text\": [\r\n",
      "      \"/home/jovyan/work\\r\\n\"\r\n",
      "     ]\r\n",
      "    }\r\n",
      "   ],\r\n",
      "   \"source\": [\r\n",
      "    \"!pwd\"\r\n",
      "   ]\r\n",
      "  },\r\n",
      "  {\r\n",
      "   \"cell_type\": \"code\",\r\n",
      "   \"execution_count\": 5,\r\n",
      "   \"metadata\": {\r\n",
      "    \"collapsed\": false\r\n",
      "   },\r\n",
      "   \"outputs\": [\r\n",
      "    {\r\n",
      "     \"name\": \"stdout\",\r\n",
      "     \"output_type\": \"stream\",\r\n",
      "     \"text\": [\r\n",
      "      \"/bin/pwd\\r\\n\"\r\n",
      "     ]\r\n",
      "    }\r\n",
      "   ],\r\n",
      "   \"source\": [\r\n",
      "    \"!which pwd\"\r\n",
      "   ]\r\n",
      "  },\r\n",
      "  {\r\n",
      "   \"cell_type\": \"code\",\r\n",
      "   \"execution_count\": 6,\r\n",
      "   \"metadata\": {\r\n",
      "    \"collapsed\": false\r\n",
      "   },\r\n",
      "   \"outputs\": [\r\n",
      "    {\r\n",
      "     \"name\": \"stdout\",\r\n",
      "     \"output_type\": \"stream\",\r\n",
      "     \"text\": [\r\n",
      "      \"/usr/bin/whoami\\r\\n\"\r\n",
      "     ]\r\n",
      "    }\r\n",
      "   ],\r\n",
      "   \"source\": [\r\n",
      "    \"!which whoami\"\r\n",
      "   ]\r\n",
      "  },\r\n",
      "  {\r\n",
      "   \"cell_type\": \"code\",\r\n",
      "   \"execution_count\": 8,\r\n",
      "   \"metadata\": {\r\n",
      "    \"collapsed\": false\r\n",
      "   },\r\n",
      "   \"outputs\": [\r\n",
      "    {\r\n",
      "     \"name\": \"stdout\",\r\n",
      "     \"output_type\": \"stream\",\r\n",
      "     \"text\": [\r\n",
      "      \"/opt/conda/bin:/usr/local/sbin:/usr/local/bin:/usr/sbin:/usr/bin:/sbin:/bin\\r\\n\"\r\n",
      "     ]\r\n",
      "    }\r\n",
      "   ],\r\n",
      "   \"source\": [\r\n",
      "    \"!echo $PATH\"\r\n",
      "   ]\r\n",
      "  },\r\n",
      "  {\r\n",
      "   \"cell_type\": \"code\",\r\n",
      "   \"execution_count\": 9,\r\n",
      "   \"metadata\": {\r\n",
      "    \"collapsed\": false\r\n",
      "   },\r\n",
      "   \"outputs\": [\r\n",
      "    {\r\n",
      "     \"name\": \"stdout\",\r\n",
      "     \"output_type\": \"stream\",\r\n",
      "     \"text\": [\r\n",
      "      \"total 4\\r\\n\",\r\n",
      "      \"-rw-r--r-- 1 jovyan users 2439 Sep  7 01:01 week-02-lecture-notes.ipynb\\r\\n\"\r\n",
      "     ]\r\n",
      "    }\r\n",
      "   ],\r\n",
      "   \"source\": [\r\n",
      "    \"!ls -l\"\r\n",
      "   ]\r\n",
      "  },\r\n",
      "  {\r\n",
      "   \"cell_type\": \"code\",\r\n",
      "   \"execution_count\": 14,\r\n",
      "   \"metadata\": {\r\n",
      "    \"collapsed\": false\r\n",
      "   },\r\n",
      "   \"outputs\": [\r\n",
      "    {\r\n",
      "     \"name\": \"stdout\",\r\n",
      "     \"output_type\": \"stream\",\r\n",
      "     \"text\": [\r\n",
      "      \"total 12K\\r\\n\",\r\n",
      "      \"drwxr-xr-x 10 jovyan users 4.0K Sep  1 21:42 ..\\r\\n\",\r\n",
      "      \"-rw-r--r--  1 jovyan users 3.1K Sep  7 01:03 week-02-lecture-notes.ipynb\\r\\n\",\r\n",
      "      \"-rw-r--r--  1 root   root  1.4K Sep  1 21:39 .nbgrader.log\\r\\n\",\r\n",
      "      \"drwxr-xr-x  3 jovyan users   85 Sep  7 01:03 .\\r\\n\",\r\n",
      "      \"drwxr-xr-x  2 jovyan users   51 Sep  7 00:51 .ipynb_checkpoints\\r\\n\"\r\n",
      "     ]\r\n",
      "    }\r\n",
      "   ],\r\n",
      "   \"source\": [\r\n",
      "    \"!ls -lahS\"\r\n",
      "   ]\r\n",
      "  },\r\n",
      "  {\r\n",
      "   \"cell_type\": \"code\",\r\n",
      "   \"execution_count\": 15,\r\n",
      "   \"metadata\": {\r\n",
      "    \"collapsed\": false\r\n",
      "   },\r\n",
      "   \"outputs\": [\r\n",
      "    {\r\n",
      "     \"name\": \"stdout\",\r\n",
      "     \"output_type\": \"stream\",\r\n",
      "     \"text\": [\r\n",
      "      \"Usage: ls [OPTION]... [FILE]...\\r\\n\",\r\n",
      "      \"List information about the FILEs (the current directory by default).\\r\\n\",\r\n",
      "      \"Sort entries alphabetically if none of -cftuvSUX nor --sort is specified.\\r\\n\",\r\n",
      "      \"\\r\\n\",\r\n",
      "      \"Mandatory arguments to long options are mandatory for short options too.\\r\\n\",\r\n",
      "      \"  -a, --all                  do not ignore entries starting with .\\r\\n\",\r\n",
      "      \"  -A, --almost-all           do not list implied . and ..\\r\\n\",\r\n",
      "      \"      --author               with -l, print the author of each file\\r\\n\",\r\n",
      "      \"  -b, --escape               print C-style escapes for nongraphic characters\\r\\n\",\r\n",
      "      \"      --block-size=SIZE      scale sizes by SIZE before printing them; e.g.,\\r\\n\",\r\n",
      "      \"                               '--block-size=M' prints sizes in units of\\r\\n\",\r\n",
      "      \"                               1,048,576 bytes; see SIZE format below\\r\\n\",\r\n",
      "      \"  -B, --ignore-backups       do not list implied entries ending with ~\\r\\n\",\r\n",
      "      \"  -c                         with -lt: sort by, and show, ctime (time of last\\r\\n\",\r\n",
      "      \"                               modification of file status information);\\r\\n\",\r\n",
      "      \"                               with -l: show ctime and sort by name;\\r\\n\",\r\n",
      "      \"                               otherwise: sort by ctime, newest first\\r\\n\",\r\n",
      "      \"  -C                         list entries by columns\\r\\n\",\r\n",
      "      \"      --color[=WHEN]         colorize the output; WHEN can be 'never', 'auto',\\r\\n\",\r\n",
      "      \"                               or 'always' (the default); more info below\\r\\n\",\r\n",
      "      \"  -d, --directory            list directories themselves, not their contents\\r\\n\",\r\n",
      "      \"  -D, --dired                generate output designed for Emacs' dired mode\\r\\n\",\r\n",
      "      \"  -f                         do not sort, enable -aU, disable -ls --color\\r\\n\",\r\n",
      "      \"  -F, --classify             append indicator (one of */=>@|) to entries\\r\\n\",\r\n",
      "      \"      --file-type            likewise, except do not append '*'\\r\\n\",\r\n",
      "      \"      --format=WORD          across -x, commas -m, horizontal -x, long -l,\\r\\n\",\r\n",
      "      \"                               single-column -1, verbose -l, vertical -C\\r\\n\",\r\n",
      "      \"      --full-time            like -l --time-style=full-iso\\r\\n\",\r\n",
      "      \"  -g                         like -l, but do not list owner\\r\\n\",\r\n",
      "      \"      --group-directories-first\\r\\n\",\r\n",
      "      \"                             group directories before files;\\r\\n\",\r\n",
      "      \"                               can be augmented with a --sort option, but any\\r\\n\",\r\n",
      "      \"                               use of --sort=none (-U) disables grouping\\r\\n\",\r\n",
      "      \"  -G, --no-group             in a long listing, don't print group names\\r\\n\",\r\n",
      "      \"  -h, --human-readable       with -l and/or -s, print human readable sizes\\r\\n\",\r\n",
      "      \"                               (e.g., 1K 234M 2G)\\r\\n\",\r\n",
      "      \"      --si                   likewise, but use powers of 1000 not 1024\\r\\n\",\r\n",
      "      \"  -H, --dereference-command-line\\r\\n\",\r\n",
      "      \"                             follow symbolic links listed on the command line\\r\\n\",\r\n",
      "      \"      --dereference-command-line-symlink-to-dir\\r\\n\",\r\n",
      "      \"                             follow each command line symbolic link\\r\\n\",\r\n",
      "      \"                               that points to a directory\\r\\n\",\r\n",
      "      \"      --hide=PATTERN         do not list implied entries matching shell PATTERN\\r\\n\",\r\n",
      "      \"                               (overridden by -a or -A)\\r\\n\",\r\n",
      "      \"      --indicator-style=WORD  append indicator with style WORD to entry names:\\r\\n\",\r\n",
      "      \"                               none (default), slash (-p),\\r\\n\",\r\n",
      "      \"                               file-type (--file-type), classify (-F)\\r\\n\",\r\n",
      "      \"  -i, --inode                print the index number of each file\\r\\n\",\r\n",
      "      \"  -I, --ignore=PATTERN       do not list implied entries matching shell PATTERN\\r\\n\",\r\n",
      "      \"  -k, --kibibytes            default to 1024-byte blocks for disk usage\\r\\n\",\r\n",
      "      \"  -l                         use a long listing format\\r\\n\",\r\n",
      "      \"  -L, --dereference          when showing file information for a symbolic\\r\\n\",\r\n",
      "      \"                               link, show information for the file the link\\r\\n\",\r\n",
      "      \"                               references rather than for the link itself\\r\\n\",\r\n",
      "      \"  -m                         fill width with a comma separated list of entries\\r\\n\",\r\n",
      "      \"  -n, --numeric-uid-gid      like -l, but list numeric user and group IDs\\r\\n\",\r\n",
      "      \"  -N, --literal              print raw entry names (don't treat e.g. control\\r\\n\",\r\n",
      "      \"                               characters specially)\\r\\n\",\r\n",
      "      \"  -o                         like -l, but do not list group information\\r\\n\",\r\n",
      "      \"  -p, --indicator-style=slash\\r\\n\",\r\n",
      "      \"                             append / indicator to directories\\r\\n\",\r\n",
      "      \"  -q, --hide-control-chars   print ? instead of nongraphic characters\\r\\n\",\r\n",
      "      \"      --show-control-chars   show nongraphic characters as-is (the default,\\r\\n\",\r\n",
      "      \"                               unless program is 'ls' and output is a terminal)\\r\\n\",\r\n",
      "      \"  -Q, --quote-name           enclose entry names in double quotes\\r\\n\",\r\n",
      "      \"      --quoting-style=WORD   use quoting style WORD for entry names:\\r\\n\",\r\n",
      "      \"                               literal, locale, shell, shell-always, c, escape\\r\\n\",\r\n",
      "      \"  -r, --reverse              reverse order while sorting\\r\\n\",\r\n",
      "      \"  -R, --recursive            list subdirectories recursively\\r\\n\",\r\n",
      "      \"  -s, --size                 print the allocated size of each file, in blocks\\r\\n\",\r\n",
      "      \"  -S                         sort by file size\\r\\n\",\r\n",
      "      \"      --sort=WORD            sort by WORD instead of name: none (-U), size (-S),\\r\\n\",\r\n",
      "      \"                               time (-t), version (-v), extension (-X)\\r\\n\",\r\n",
      "      \"      --time=WORD            with -l, show time as WORD instead of default\\r\\n\",\r\n",
      "      \"                               modification time: atime or access or use (-u)\\r\\n\",\r\n",
      "      \"                               ctime or status (-c); also use specified time\\r\\n\",\r\n",
      "      \"                               as sort key if --sort=time\\r\\n\",\r\n",
      "      \"      --time-style=STYLE     with -l, show times using style STYLE:\\r\\n\",\r\n",
      "      \"                               full-iso, long-iso, iso, locale, or +FORMAT;\\r\\n\",\r\n",
      "      \"                               FORMAT is interpreted like in 'date'; if FORMAT\\r\\n\",\r\n",
      "      \"                               is FORMAT1<newline>FORMAT2, then FORMAT1 applies\\r\\n\",\r\n",
      "      \"                               to non-recent files and FORMAT2 to recent files;\\r\\n\",\r\n",
      "      \"                               if STYLE is prefixed with 'posix-', STYLE\\r\\n\",\r\n",
      "      \"                               takes effect only outside the POSIX locale\\r\\n\",\r\n",
      "      \"  -t                         sort by modification time, newest first\\r\\n\",\r\n",
      "      \"  -T, --tabsize=COLS         assume tab stops at each COLS instead of 8\\r\\n\",\r\n",
      "      \"  -u                         with -lt: sort by, and show, access time;\\r\\n\",\r\n",
      "      \"                               with -l: show access time and sort by name;\\r\\n\",\r\n",
      "      \"                               otherwise: sort by access time\\r\\n\",\r\n",
      "      \"  -U                         do not sort; list entries in directory order\\r\\n\",\r\n",
      "      \"  -v                         natural sort of (version) numbers within text\\r\\n\",\r\n",
      "      \"  -w, --width=COLS           assume screen width instead of current value\\r\\n\",\r\n",
      "      \"  -x                         list entries by lines instead of by columns\\r\\n\",\r\n",
      "      \"  -X                         sort alphabetically by entry extension\\r\\n\",\r\n",
      "      \"  -Z, --context              print any security context of each file\\r\\n\",\r\n",
      "      \"  -1                         list one file per line\\r\\n\",\r\n",
      "      \"      --help     display this help and exit\\r\\n\",\r\n",
      "      \"      --version  output version information and exit\\r\\n\",\r\n",
      "      \"\\r\\n\",\r\n",
      "      \"The SIZE argument is an integer and optional unit (example: 10K is 10*1024).\\r\\n\",\r\n",
      "      \"Units are K,M,G,T,P,E,Z,Y (powers of 1024) or KB,MB,... (powers of 1000).\\r\\n\",\r\n",
      "      \"\\r\\n\",\r\n",
      "      \"Using color to distinguish file types is disabled both by default and\\r\\n\",\r\n",
      "      \"with --color=never.  With --color=auto, ls emits color codes only when\\r\\n\",\r\n",
      "      \"standard output is connected to a terminal.  The LS_COLORS environment\\r\\n\",\r\n",
      "      \"variable can change the settings.  Use the dircolors command to set it.\\r\\n\",\r\n",
      "      \"\\r\\n\",\r\n",
      "      \"Exit status:\\r\\n\",\r\n",
      "      \" 0  if OK,\\r\\n\",\r\n",
      "      \" 1  if minor problems (e.g., cannot access subdirectory),\\r\\n\",\r\n",
      "      \" 2  if serious trouble (e.g., cannot access command-line argument).\\r\\n\",\r\n",
      "      \"\\r\\n\",\r\n",
      "      \"GNU coreutils online help: <http://www.gnu.org/software/coreutils/>\\r\\n\",\r\n",
      "      \"Full documentation at: <http://www.gnu.org/software/coreutils/ls>\\r\\n\",\r\n",
      "      \"or available locally via: info '(coreutils) ls invocation'\\r\\n\"\r\n",
      "     ]\r\n",
      "    }\r\n",
      "   ],\r\n",
      "   \"source\": [\r\n",
      "    \"!ls --help\"\r\n",
      "   ]\r\n",
      "  },\r\n",
      "  {\r\n",
      "   \"cell_type\": \"code\",\r\n",
      "   \"execution_count\": null,\r\n",
      "   \"metadata\": {\r\n",
      "    \"collapsed\": true\r\n",
      "   },\r\n",
      "   \"outputs\": [],\r\n",
      "   \"source\": []\r\n",
      "  }\r\n",
      " ],\r\n",
      " \"metadata\": {\r\n",
      "  \"kernelspec\": {\r\n",
      "   \"display_name\": \"Python 3\",\r\n",
      "   \"language\": \"python\",\r\n",
      "   \"name\": \"python3\"\r\n",
      "  },\r\n",
      "  \"language_info\": {\r\n",
      "   \"codemirror_mode\": {\r\n",
      "    \"name\": \"ipython\",\r\n",
      "    \"version\": 3\r\n",
      "   },\r\n",
      "   \"file_extension\": \".py\",\r\n",
      "   \"mimetype\": \"text/x-python\",\r\n",
      "   \"name\": \"python\",\r\n",
      "   \"nbconvert_exporter\": \"python\",\r\n",
      "   \"pygments_lexer\": \"ipython3\",\r\n",
      "   \"version\": \"3.5.2\"\r\n",
      "  }\r\n",
      " },\r\n",
      " \"nbformat\": 4,\r\n",
      " \"nbformat_minor\": 0\r\n",
      "}\r\n"
     ]
    }
   ],
   "source": [
    "!cat week-02-lecture-notes.ipynb "
   ]
  },
  {
   "cell_type": "code",
   "execution_count": 18,
   "metadata": {
    "collapsed": false
   },
   "outputs": [
    {
     "name": "stdout",
     "output_type": "stream",
     "text": [
      "{\r\n",
      " \"cells\": [\r\n",
      "  {\r\n",
      "   \"cell_type\": \"code\",\r\n",
      "   \"execution_count\": 1,\r\n",
      "   \"metadata\": {\r\n",
      "    \"collapsed\": false\r\n",
      "   },\r\n",
      "   \"outputs\": [\r\n",
      "    {\r\n"
     ]
    }
   ],
   "source": [
    "!cat week-02-lecture-notes.ipynb | head -10"
   ]
  },
  {
   "cell_type": "code",
   "execution_count": 19,
   "metadata": {
    "collapsed": false
   },
   "outputs": [
    {
     "name": "stdout",
     "output_type": "stream",
     "text": [
      "   \"mimetype\": \"text/x-python\",\r\n",
      "   \"name\": \"python\",\r\n",
      "   \"nbconvert_exporter\": \"python\",\r\n",
      "   \"pygments_lexer\": \"ipython3\",\r\n",
      "   \"version\": \"3.5.2\"\r\n",
      "  }\r\n",
      " },\r\n",
      " \"nbformat\": 4,\r\n",
      " \"nbformat_minor\": 0\r\n",
      "}\r\n"
     ]
    }
   ],
   "source": [
    "!cat week-02-lecture-notes.ipynb | tail -10"
   ]
  },
  {
   "cell_type": "code",
   "execution_count": 20,
   "metadata": {
    "collapsed": false
   },
   "outputs": [
    {
     "name": "stdout",
     "output_type": "stream",
     "text": [
      "10\r\n",
      "11\r\n",
      "12\r\n",
      "13\r\n",
      "14\r\n",
      "15\r\n",
      "16\r\n",
      "17\r\n",
      "18\r\n",
      "19\r\n",
      "20\r\n"
     ]
    }
   ],
   "source": [
    "!seq 10 20"
   ]
  },
  {
   "cell_type": "code",
   "execution_count": 22,
   "metadata": {
    "collapsed": false
   },
   "outputs": [
    {
     "name": "stdout",
     "output_type": "stream",
     "text": [
      "16\r\n",
      "18\r\n",
      "13\r\n"
     ]
    }
   ],
   "source": [
    "!seq 10 20 | shuf -n 3"
   ]
  },
  {
   "cell_type": "code",
   "execution_count": 24,
   "metadata": {
    "collapsed": true
   },
   "outputs": [],
   "source": [
    "!seq 1 1000 | shuf -n 30 > sample.txt"
   ]
  },
  {
   "cell_type": "code",
   "execution_count": 25,
   "metadata": {
    "collapsed": false
   },
   "outputs": [
    {
     "name": "stdout",
     "output_type": "stream",
     "text": [
      "456\r\n",
      "461\r\n",
      "734\r\n",
      "965\r\n",
      "787\r\n",
      "866\r\n",
      "663\r\n",
      "637\r\n",
      "9\r\n",
      "834\r\n"
     ]
    }
   ],
   "source": [
    "!head sample.txt"
   ]
  },
  {
   "cell_type": "code",
   "execution_count": 32,
   "metadata": {
    "collapsed": false
   },
   "outputs": [
    {
     "name": "stdout",
     "output_type": "stream",
     "text": [
      "866\r\n",
      "876\r\n",
      "919\r\n",
      "942\r\n",
      "965\r\n"
     ]
    }
   ],
   "source": [
    "!sort -n sample.txt | tail -5"
   ]
  },
  {
   "cell_type": "code",
   "execution_count": 33,
   "metadata": {
    "collapsed": true
   },
   "outputs": [],
   "source": [
    "!rm sample.tx"
   ]
  },
  {
   "cell_type": "code",
   "execution_count": 34,
   "metadata": {
    "collapsed": false
   },
   "outputs": [
    {
     "name": "stdout",
     "output_type": "stream",
     "text": [
      " 30  30 117 sample.txt\r\n"
     ]
    }
   ],
   "source": [
    "!wc sample.txt"
   ]
  },
  {
   "cell_type": "code",
   "execution_count": 36,
   "metadata": {
    "collapsed": false
   },
   "outputs": [
    {
     "name": "stdout",
     "output_type": "stream",
     "text": [
      "--2016-09-07 01:14:28--  https://github.com/gwsb-istm-6212-fall-2016/syllabus-and-schedule/raw/master/exercises/pg2500.txt\n",
      "Resolving github.com (github.com)... 192.30.253.112\n",
      "Connecting to github.com (github.com)|192.30.253.112|:443... connected.\n",
      "HTTP request sent, awaiting response... 302 Found\n",
      "Location: https://raw.githubusercontent.com/gwsb-istm-6212-fall-2016/syllabus-and-schedule/master/exercises/pg2500.txt [following]\n",
      "--2016-09-07 01:14:28--  https://raw.githubusercontent.com/gwsb-istm-6212-fall-2016/syllabus-and-schedule/master/exercises/pg2500.txt\n",
      "Resolving raw.githubusercontent.com (raw.githubusercontent.com)... 151.101.20.133\n",
      "Connecting to raw.githubusercontent.com (raw.githubusercontent.com)|151.101.20.133|:443... connected.\n",
      "HTTP request sent, awaiting response... 200 OK\n",
      "Length: 241176 (236K) [text/plain]\n",
      "Saving to: ‘pg2500.txt’\n",
      "\n",
      "pg2500.txt          100%[=====================>] 235.52K  --.-KB/s   in 0.03s  \n",
      "\n",
      "2016-09-07 01:14:28 (8.03 MB/s) - ‘pg2500.txt’ saved [241176/241176]\n",
      "\n"
     ]
    }
   ],
   "source": [
    "!wget https://github.com/gwsb-istm-6212-fall-2016/syllabus-and-schedule/raw/master/exercises/pg2500.txt"
   ]
  },
  {
   "cell_type": "code",
   "execution_count": 37,
   "metadata": {
    "collapsed": false
   },
   "outputs": [
    {
     "name": "stdout",
     "output_type": "stream",
     "text": [
      "﻿The Project Gutenberg EBook of Siddhartha, by Herman Hesse\r",
      "\r\n",
      "\r",
      "\r\n",
      "This eBook is for the use of anyone anywhere at no cost and with\r",
      "\r\n",
      "almost no restrictions whatsoever.  You may copy it, give it away or\r",
      "\r\n",
      "re-use it under the terms of the Project Gutenberg License included\r",
      "\r\n",
      "with this eBook or online at www.gutenberg.org\r",
      "\r\n",
      "\r",
      "\r\n",
      "\r",
      "\r\n",
      "Title: Siddhartha\r",
      "\r\n",
      "\r",
      "\r\n",
      "Author: Herman Hesse\r",
      "\r\n",
      "\r",
      "\r\n",
      "Translator: Gunther Olesch, Anke Dreher, Amy Coulter, Stefan Langer and Semyon Chaichenets\r",
      "\r\n",
      "\r",
      "\r\n",
      "Release Date: April 6, 2008 [EBook #2500]\r",
      "\r\n",
      "Last updated: July 2, 2011\r",
      "\r\n",
      "Last updated: January 23, 2013\r",
      "\r\n",
      "\r",
      "\r\n",
      "Language: English\r",
      "\r\n",
      "\r",
      "\r\n",
      "\r",
      "\r\n",
      "*** START OF THIS PROJECT GUTENBERG EBOOK SIDDHARTHA ***\r",
      "\r\n",
      "\r",
      "\r\n",
      "\r",
      "\r\n",
      "\r",
      "\r\n"
     ]
    }
   ],
   "source": [
    "!head -25 pg2500.txt"
   ]
  },
  {
   "cell_type": "code",
   "execution_count": 38,
   "metadata": {
    "collapsed": true
   },
   "outputs": [],
   "source": [
    "!mv pg2500.txt siddhartha.txt"
   ]
  },
  {
   "cell_type": "code",
   "execution_count": 39,
   "metadata": {
    "collapsed": false
   },
   "outputs": [
    {
     "name": "stdout",
     "output_type": "stream",
     "text": [
      "\r",
      "\r\n",
      "\r",
      "\r\n",
      "Section 5.  General Information About Project Gutenberg-tm electronic\r",
      "\r\n",
      "works.\r",
      "\r\n",
      "\r",
      "\r\n",
      "Professor Michael S. Hart is the originator of the Project Gutenberg-tm\r",
      "\r\n",
      "concept of a library of electronic works that could be freely shared\r",
      "\r\n",
      "with anyone.  For thirty years, he produced and distributed Project\r",
      "\r\n",
      "Gutenberg-tm eBooks with only a loose network of volunteer support.\r",
      "\r\n",
      "\r",
      "\r\n",
      "\r",
      "\r\n",
      "Project Gutenberg-tm eBooks are often created from several printed\r",
      "\r\n",
      "editions, all of which are confirmed as Public Domain in the U.S.\r",
      "\r\n",
      "unless a copyright notice is included.  Thus, we do not necessarily\r",
      "\r\n",
      "keep eBooks in compliance with any particular paper edition.\r",
      "\r\n",
      "\r",
      "\r\n",
      "\r",
      "\r\n",
      "Most people start at our Web site which has the main PG search facility:\r",
      "\r\n",
      "\r",
      "\r\n",
      "     http://www.gutenberg.org\r",
      "\r\n",
      "\r",
      "\r\n",
      "This Web site includes information about Project Gutenberg-tm,\r",
      "\r\n",
      "including how to make donations to the Project Gutenberg Literary\r",
      "\r\n",
      "Archive Foundation, how to help produce our new eBooks, and how to\r",
      "\r\n",
      "subscribe to our email newsletter to hear about new eBooks.\r",
      "\r\n"
     ]
    }
   ],
   "source": [
    "!tail -25 siddhartha.txt"
   ]
  },
  {
   "cell_type": "code",
   "execution_count": 40,
   "metadata": {
    "collapsed": false
   },
   "outputs": [
    {
     "name": "stdout",
     "output_type": "stream",
     "text": [
      "  4319  42172 241176 siddhartha.txt\r\n"
     ]
    }
   ],
   "source": [
    "!wc siddhartha.txt"
   ]
  },
  {
   "cell_type": "code",
   "execution_count": 43,
   "metadata": {
    "collapsed": false
   },
   "outputs": [
    {
     "name": "stdout",
     "output_type": "stream",
     "text": [
      "52:In the shade of the house, in the sunshine of the riverbank near the\r",
      "\r\n",
      "56:tanned his light shoulders by the banks of the river when bathing,\r",
      "\r\n",
      "107:came into his mind, flowing from the water of the river, sparkling from\r",
      "\r\n",
      "329:the river and to perform the first ablution.\"\r",
      "\r\n",
      "460:the same short numbing is what the driver of an ox-cart finds in the\r",
      "\r\n",
      "469:is no driver of an ox-cart and a Samana is no drunkard.  It's true that\r",
      "\r\n",
      "580:submerged in the murky river of physical forms.  Many wonderful and\r",
      "\r\n",
      "1062:and the river flowed, the forest and the mountains were rigid, all of it\r",
      "\r\n",
      "1065:all this yellow and blue, river and forest, entered Siddhartha for the\r",
      "\r\n",
      "1069:who scorns diversity, who seeks unity.  Blue was blue, river was river,\r",
      "\r\n",
      "grep: write error: Broken pipe\r\n"
     ]
    }
   ],
   "source": [
    "!grep -n river siddhartha.txt | head -10"
   ]
  },
  {
   "cell_type": "code",
   "execution_count": 45,
   "metadata": {
    "collapsed": false
   },
   "outputs": [],
   "source": [
    "!head -10 siddhartha.txt | grep -oE '\\w{2,}'"
   ]
  },
  {
   "cell_type": "code",
   "execution_count": 47,
   "metadata": {
    "collapsed": true
   },
   "outputs": [],
   "source": [
    "!head -10 siddhartha.txt > firstten.txt"
   ]
  },
  {
   "cell_type": "code",
   "execution_count": 48,
   "metadata": {
    "collapsed": false
   },
   "outputs": [
    {
     "name": "stdout",
     "output_type": "stream",
     "text": [
      "﻿The Project Gutenberg EBook of Siddhartha, by Herman Hesse\r",
      "\r\n",
      "\r",
      "\r\n",
      "This eBook is for the use of anyone anywhere at no cost and with\r",
      "\r\n",
      "almost no restrictions whatsoever.  You may copy it, give it away or\r",
      "\r\n",
      "re-use it under the terms of the Project Gutenberg License included\r",
      "\r\n",
      "with this eBook or online at www.gutenberg.org\r",
      "\r\n",
      "\r",
      "\r\n",
      "\r",
      "\r\n",
      "Title: Siddhartha\r",
      "\r\n",
      "\r",
      "\r\n"
     ]
    }
   ],
   "source": [
    "!cat firstten.txt"
   ]
  },
  {
   "cell_type": "code",
   "execution_count": 49,
   "metadata": {
    "collapsed": false
   },
   "outputs": [
    {
     "name": "stdout",
     "output_type": "stream",
     "text": [
      "Author: Herman Hesse\r",
      "\r\n",
      "\r",
      "\r\n",
      "Translator: Gunther Olesch, Anke Dreher, Amy Coulter, Stefan Langer and Semyon Chaichenets\r",
      "\r\n",
      "\r",
      "\r\n",
      "Release Date: April 6, 2008 [EBook #2500]\r",
      "\r\n",
      "Last updated: July 2, 2011\r",
      "\r\n",
      "Last updated: January 23, 2013\r",
      "\r\n",
      "\r",
      "\r\n",
      "Language: English\r",
      "\r\n",
      "\r",
      "\r\n"
     ]
    }
   ],
   "source": [
    "!head -20 siddhartha.txt | tail -10"
   ]
  },
  {
   "cell_type": "code",
   "execution_count": 50,
   "metadata": {
    "collapsed": true
   },
   "outputs": [],
   "source": [
    "!head -20 siddhartha.txt | tail -10 > secondten.txt"
   ]
  },
  {
   "cell_type": "code",
   "execution_count": 51,
   "metadata": {
    "collapsed": false
   },
   "outputs": [
    {
     "name": "stdout",
     "output_type": "stream",
     "text": [
      "Author: Herman Hesse\r",
      "\r\n",
      "\r",
      "\r\n",
      "Translator: Gunther Olesch, Anke Dreher, Amy Coulter, Stefan Langer and Semyon Chaichenets\r",
      "\r\n",
      "\r",
      "\r\n",
      "Release Date: April 6, 2008 [EBook #2500]\r",
      "\r\n",
      "Last updated: July 2, 2011\r",
      "\r\n",
      "Last updated: January 23, 2013\r",
      "\r\n",
      "\r",
      "\r\n",
      "Language: English\r",
      "\r\n",
      "\r",
      "\r\n"
     ]
    }
   ],
   "source": [
    "!cat secondten.txt"
   ]
  },
  {
   "cell_type": "code",
   "execution_count": 52,
   "metadata": {
    "collapsed": false
   },
   "outputs": [
    {
     "name": "stdout",
     "output_type": "stream",
     "text": [
      "﻿The Project Gutenberg EBook of Siddhartha, by Herman Hesse\r",
      "\r\n",
      "\r",
      "\r\n",
      "This eBook is for the use of anyone anywhere at no cost and with\r",
      "\r\n",
      "almost no restrictions whatsoever.  You may copy it, give it away or\r",
      "\r\n",
      "re-use it under the terms of the Project Gutenberg License included\r",
      "\r\n",
      "with this eBook or online at www.gutenberg.org\r",
      "\r\n",
      "\r",
      "\r\n",
      "\r",
      "\r\n",
      "Title: Siddhartha\r",
      "\r\n",
      "\r",
      "\r\n",
      "Author: Herman Hesse\r",
      "\r\n",
      "\r",
      "\r\n",
      "Translator: Gunther Olesch, Anke Dreher, Amy Coulter, Stefan Langer and Semyon Chaichenets\r",
      "\r\n",
      "\r",
      "\r\n",
      "Release Date: April 6, 2008 [EBook #2500]\r",
      "\r\n",
      "Last updated: July 2, 2011\r",
      "\r\n",
      "Last updated: January 23, 2013\r",
      "\r\n",
      "\r",
      "\r\n",
      "Language: English\r",
      "\r\n",
      "\r",
      "\r\n"
     ]
    }
   ],
   "source": [
    "!cat firstten.txt secondten.txt"
   ]
  },
  {
   "cell_type": "code",
   "execution_count": 53,
   "metadata": {
    "collapsed": true
   },
   "outputs": [],
   "source": [
    "!cat firstten.txt secondten.txt > firsttwenty.txt"
   ]
  },
  {
   "cell_type": "code",
   "execution_count": 54,
   "metadata": {
    "collapsed": false
   },
   "outputs": [
    {
     "name": "stdout",
     "output_type": "stream",
     "text": [
      "20 firsttwenty.txt\r\n"
     ]
    }
   ],
   "source": [
    "!wc -l firsttwenty.txt"
   ]
  },
  {
   "cell_type": "code",
   "execution_count": 59,
   "metadata": {
    "collapsed": true
   },
   "outputs": [],
   "source": [
    "!head -10 siddhartha.txt > firsttwenty.txt"
   ]
  },
  {
   "cell_type": "code",
   "execution_count": 60,
   "metadata": {
    "collapsed": false
   },
   "outputs": [
    {
     "name": "stdout",
     "output_type": "stream",
     "text": [
      "10\r\n"
     ]
    }
   ],
   "source": [
    "!cat firsttwenty.txt | wc -l"
   ]
  },
  {
   "cell_type": "code",
   "execution_count": 61,
   "metadata": {
    "collapsed": true
   },
   "outputs": [],
   "source": [
    "!head -20 siddhartha.txt | tail -10 >> firsttwenty.txt"
   ]
  },
  {
   "cell_type": "code",
   "execution_count": 62,
   "metadata": {
    "collapsed": false
   },
   "outputs": [
    {
     "name": "stdout",
     "output_type": "stream",
     "text": [
      "20 firsttwenty.txt\r\n"
     ]
    }
   ],
   "source": [
    "!wc -l firsttwenty.txt"
   ]
  },
  {
   "cell_type": "code",
   "execution_count": 64,
   "metadata": {
    "collapsed": false
   },
   "outputs": [
    {
     "name": "stdout",
     "output_type": "stream",
     "text": [
      "﻿The Project Gutenberg EBook of Siddhartha, by Herman Hesse\r",
      "\r\n",
      "\r",
      "\r\n",
      "This eBook is for the use of anyone anywhere at no cost and with\r",
      "\r\n",
      "almost no restrictions whatsoever.  You may copy it, give it away or\r",
      "\r\n",
      "re-use it under the terms of the Project Gutenberg License included\r",
      "\r\n",
      "with this eBook or online at www.gutenberg.org\r",
      "\r\n",
      "\r",
      "\r\n",
      "\r",
      "\r\n",
      "Title: Siddhartha\r",
      "\r\n",
      "\r",
      "\r\n",
      "Author: Herman Hesse\r",
      "\r\n",
      "\r",
      "\r\n",
      "Translator: Gunther Olesch, Anke Dreher, Amy Coulter, Stefan Langer and Semyon Chaichenets\r",
      "\r\n",
      "\r",
      "\r\n",
      "Release Date: April 6, 2008 [EBook #2500]\r",
      "\r\n",
      "Last updated: July 2, 2011\r",
      "\r\n",
      "Last updated: January 23, 2013\r",
      "\r\n",
      "\r",
      "\r\n",
      "Language: English\r",
      "\r\n",
      "\r",
      "\r\n"
     ]
    }
   ],
   "source": [
    "!cat firsttwenty.txt"
   ]
  },
  {
   "cell_type": "code",
   "execution_count": 66,
   "metadata": {
    "collapsed": false
   },
   "outputs": [
    {
     "name": "stdout",
     "output_type": "stream",
     "text": [
      "--2016-09-07 01:40:00--  https://s3.amazonaws.com/capitalbikeshare-data/2015-Q1-cabi-trip-history-data.zip\n",
      "Resolving s3.amazonaws.com (s3.amazonaws.com)... 54.231.115.50\n",
      "Connecting to s3.amazonaws.com (s3.amazonaws.com)|54.231.115.50|:443... connected.\n",
      "HTTP request sent, awaiting response... 200 OK\n",
      "Length: 7979576 (7.6M) [application/zip]\n",
      "Saving to: ‘2015-Q1-cabi-trip-history-data.zip’\n",
      "\n",
      "2015-Q1-cabi-trip-h 100%[=====================>]   7.61M  48.7MB/s   in 0.2s   \n",
      "\n",
      "2016-09-07 01:40:00 (48.7 MB/s) - ‘2015-Q1-cabi-trip-history-data.zip’ saved [7979576/7979576]\n",
      "\n"
     ]
    }
   ],
   "source": [
    "!wget https://s3.amazonaws.com/capitalbikeshare-data/2015-Q1-cabi-trip-history-data.zip"
   ]
  },
  {
   "cell_type": "code",
   "execution_count": 67,
   "metadata": {
    "collapsed": false
   },
   "outputs": [
    {
     "name": "stdout",
     "output_type": "stream",
     "text": [
      "Archive:  2015-Q1-cabi-trip-history-data.zip\n",
      "  inflating: 2015-Q1-Trips-History-Data.csv  \n"
     ]
    }
   ],
   "source": [
    "!unzip 2015-Q1-cabi-trip-history-data.zip"
   ]
  },
  {
   "cell_type": "code",
   "execution_count": 68,
   "metadata": {
    "collapsed": true
   },
   "outputs": [],
   "source": [
    "!mv 2015-Q1-Trips-History-Data.csv q1.csv"
   ]
  },
  {
   "cell_type": "code",
   "execution_count": 69,
   "metadata": {
    "collapsed": false
   },
   "outputs": [
    {
     "name": "stdout",
     "output_type": "stream",
     "text": [
      "Total duration (ms),Start date,Start station,End date,End station,Bike number,Subscription Type\r",
      "\r\n",
      "2394764,1/1/2015 0:02,Constitution Ave & 2nd St NW/DOL,1/1/2015 0:42,15th & K St NW,W00612,Casual\r",
      "\r\n",
      "2389161,1/1/2015 0:02,Constitution Ave & 2nd St NW/DOL,1/1/2015 0:42,15th & K St NW,W01140,Casual\r",
      "\r\n",
      "468047,1/1/2015 0:04,20th & E St NW,1/1/2015 0:12,20th & O St NW / Dupont South,W01226,Registered\r",
      "\r\n",
      "348068,1/1/2015 0:07,Park Rd & Holmead Pl NW,1/1/2015 0:13,15th & Euclid St  NW,W20216,Registered\r",
      "\r\n",
      "980844,1/1/2015 0:09,Jefferson Dr & 14th St SW,1/1/2015 0:25,Thomas Circle,W21005,Casual\r",
      "\r\n",
      "932411,1/1/2015 0:10,Jefferson Dr & 14th St SW,1/1/2015 0:26,Thomas Circle,W01126,Casual\r",
      "\r\n",
      "387061,1/1/2015 0:12,New York Ave & 15th St NW,1/1/2015 0:18,14th & R St NW,W20464,Registered\r",
      "\r\n",
      "321333,1/1/2015 0:13,Wilson Blvd & N Uhle St,1/1/2015 0:18,Clarendon Metro / Wilson Blvd & N Highland St,W20416,Registered\r",
      "\r\n",
      "2646785,1/1/2015 0:17,Jefferson Memorial,1/1/2015 1:01,14th & D St NW / Ronald Reagan Building,W21343,Casual\r",
      "\r\n"
     ]
    }
   ],
   "source": [
    "!head -10 q1.csv"
   ]
  },
  {
   "cell_type": "code",
   "execution_count": 70,
   "metadata": {
    "collapsed": false
   },
   "outputs": [
    {
     "name": "stdout",
     "output_type": "stream",
     "text": [
      "|----------------------+---------------+----------------------------------+---------------+-----------------------------------------------+-------------+--------------------|\r\n",
      "|  Total duration (ms) | Start date    | Start station                    | End date      | End station                                   | Bike number | Subscription Type  |\r\n",
      "|----------------------+---------------+----------------------------------+---------------+-----------------------------------------------+-------------+--------------------|\r\n",
      "|  2394764             | 1/1/2015 0:02 | Constitution Ave & 2nd St NW/DOL | 1/1/2015 0:42 | 15th & K St NW                                | W00612      | Casual             |\r\n",
      "|  2389161             | 1/1/2015 0:02 | Constitution Ave & 2nd St NW/DOL | 1/1/2015 0:42 | 15th & K St NW                                | W01140      | Casual             |\r\n",
      "|  468047              | 1/1/2015 0:04 | 20th & E St NW                   | 1/1/2015 0:12 | 20th & O St NW / Dupont South                 | W01226      | Registered         |\r\n",
      "|  348068              | 1/1/2015 0:07 | Park Rd & Holmead Pl NW          | 1/1/2015 0:13 | 15th & Euclid St  NW                          | W20216      | Registered         |\r\n",
      "|  980844              | 1/1/2015 0:09 | Jefferson Dr & 14th St SW        | 1/1/2015 0:25 | Thomas Circle                                 | W21005      | Casual             |\r\n",
      "|  932411              | 1/1/2015 0:10 | Jefferson Dr & 14th St SW        | 1/1/2015 0:26 | Thomas Circle                                 | W01126      | Casual             |\r\n",
      "|  387061              | 1/1/2015 0:12 | New York Ave & 15th St NW        | 1/1/2015 0:18 | 14th & R St NW                                | W20464      | Registered         |\r\n",
      "|  321333              | 1/1/2015 0:13 | Wilson Blvd & N Uhle St          | 1/1/2015 0:18 | Clarendon Metro / Wilson Blvd & N Highland St | W20416      | Registered         |\r\n",
      "|  2646785             | 1/1/2015 0:17 | Jefferson Memorial               | 1/1/2015 1:01 | 14th & D St NW / Ronald Reagan Building       | W21343      | Casual             |\r\n",
      "|----------------------+---------------+----------------------------------+---------------+-----------------------------------------------+-------------+--------------------|\r\n"
     ]
    }
   ],
   "source": [
    "!head -10 q1.csv | csvlook"
   ]
  },
  {
   "cell_type": "code",
   "execution_count": 71,
   "metadata": {
    "collapsed": false
   },
   "outputs": [
    {
     "name": "stdout",
     "output_type": "stream",
     "text": [
      "|----------------------+----------------------------------+------------------------------------------------|\r\n",
      "|  Total duration (ms) | Start station                    | End station                                    |\r\n",
      "|----------------------+----------------------------------+------------------------------------------------|\r\n",
      "|  2394764             | Constitution Ave & 2nd St NW/DOL | 15th & K St NW                                 |\r\n",
      "|  2389161             | Constitution Ave & 2nd St NW/DOL | 15th & K St NW                                 |\r\n",
      "|  468047              | 20th & E St NW                   | 20th & O St NW / Dupont South                  |\r\n",
      "|  348068              | Park Rd & Holmead Pl NW          | 15th & Euclid St  NW                           |\r\n",
      "|  980844              | Jefferson Dr & 14th St SW        | Thomas Circle                                  |\r\n",
      "|  932411              | Jefferson Dr & 14th St SW        | Thomas Circle                                  |\r\n",
      "|  387061              | New York Ave & 15th St NW        | 14th & R St NW                                 |\r\n",
      "|  321333              | Wilson Blvd & N Uhle St          | Clarendon Metro / Wilson Blvd & N Highland St  |\r\n",
      "|  2646785             | Jefferson Memorial               | 14th & D St NW / Ronald Reagan Building        |\r\n",
      "|----------------------+----------------------------------+------------------------------------------------|\r\n"
     ]
    }
   ],
   "source": [
    "!head -10 q1.csv | csvcut -c1,3,5 | csvlook"
   ]
  },
  {
   "cell_type": "code",
   "execution_count": 75,
   "metadata": {
    "collapsed": false
   },
   "outputs": [
    {
     "name": "stdout",
     "output_type": "stream",
     "text": [
      "|----------------------+----------------------------------------------+---------------------------------------|\r\n",
      "|  Total duration (ms) | Start station                                | End station                           |\r\n",
      "|----------------------+----------------------------------------------+---------------------------------------|\r\n",
      "|  959800              | Van Ness Metro / UDC                         | Massachusetts Ave & Dupont Circle NW  |\r\n",
      "|  361589              | 14th & V St NW                               | Massachusetts Ave & Dupont Circle NW  |\r\n",
      "|  284893              | 15th & P St NW                               | Massachusetts Ave & Dupont Circle NW  |\r\n",
      "|  308162              | 15th & P St NW                               | Massachusetts Ave & Dupont Circle NW  |\r\n",
      "|  471474              | 14th & V St NW                               | Massachusetts Ave & Dupont Circle NW  |\r\n",
      "|  573331              | 8th & H St NW                                | Massachusetts Ave & Dupont Circle NW  |\r\n",
      "|  131791              | 17th & Corcoran St NW                        | Massachusetts Ave & Dupont Circle NW  |\r\n",
      "|  1010719             | Gallaudet / 8th St & Florida Ave NE          | Massachusetts Ave & Dupont Circle NW  |\r\n",
      "|  374623              | 14th & Rhode Island Ave NW                   | Massachusetts Ave & Dupont Circle NW  |\r\n",
      "|  558779              | 36th & Calvert St NW / Glover Park           | Massachusetts Ave & Dupont Circle NW  |\r\n",
      "|  495089              | 14th & Harvard St NW                         | Massachusetts Ave & Dupont Circle NW  |\r\n",
      "|  974596              | 39th & Calvert St NW / Stoddert              | Massachusetts Ave & Dupont Circle NW  |\r\n",
      "|  608430              | New Jersey Ave & R St NW                     | Massachusetts Ave & Dupont Circle NW  |\r\n",
      "|  315138              | 15th & P St NW                               | Massachusetts Ave & Dupont Circle NW  |\r\n",
      "|  467994              | 3000 Connecticut Ave NW / National Zoo       | Massachusetts Ave & Dupont Circle NW  |\r\n",
      "|  542280              | 16th & Harvard St NW                         | Massachusetts Ave & Dupont Circle NW  |\r\n",
      "|  479058              | Wisconsin Ave & O St NW                      | Massachusetts Ave & Dupont Circle NW  |\r\n",
      "|  570250              | 7th & R St NW / Shaw Library                 | Massachusetts Ave & Dupont Circle NW  |\r\n",
      "|  193086              | New Hampshire Ave & T St NW                  | Massachusetts Ave & Dupont Circle NW  |\r\n",
      "|  306462              | 14th & V St NW                               | Massachusetts Ave & Dupont Circle NW  |\r\n",
      "|  10881               | Massachusetts Ave & Dupont Circle NW         | Massachusetts Ave & Dupont Circle NW  |\r\n",
      "|  498308              | 14th & V St NW                               | Massachusetts Ave & Dupont Circle NW  |\r\n",
      "|  265853              | 15th & P St NW                               | Massachusetts Ave & Dupont Circle NW  |\r\n",
      "|  1258362             | Wisconsin Ave & Newark St NW                 | Massachusetts Ave & Dupont Circle NW  |\r\n",
      "|  1226945             | Tenleytown / Wisconsin Ave & Albemarle St NW | Massachusetts Ave & Dupont Circle NW  |\r\n",
      "|  763705              | C & O Canal & Wisconsin Ave NW               | Massachusetts Ave & Dupont Circle NW  |\r\n",
      "|  259037              | New Hampshire Ave & T St NW                  | Massachusetts Ave & Dupont Circle NW  |\r\n",
      "|  185085              | 20th St & Florida Ave NW                     | Massachusetts Ave & Dupont Circle NW  |\r\n",
      "|  924645              | 1st & H St NW                                | Massachusetts Ave & Dupont Circle NW  |\r\n",
      "|  877934              | 1st & H St NW                                | Massachusetts Ave & Dupont Circle NW  |\r\n",
      "|  407256              | 14th & V St NW                               | Massachusetts Ave & Dupont Circle NW  |\r\n",
      "|----------------------+----------------------------------------------+---------------------------------------|\r\n"
     ]
    }
   ],
   "source": [
    "!head -1000 q1.csv | csvcut -c1,3,5 | csvgrep -c3 -m \"Dupont Circle\" | csvlook"
   ]
  },
  {
   "cell_type": "code",
   "execution_count": 76,
   "metadata": {
    "collapsed": false
   },
   "outputs": [
    {
     "name": "stdout",
     "output_type": "stream",
     "text": [
      "  1. Total duration (ms)\r\n",
      "\t<class 'int'>\r\n",
      "\tNulls: False\r\n",
      "\tMin: 10881\r\n",
      "\tMax: 1258362\r\n",
      "\tSum: 16665555\r\n",
      "\tMean: 537598.5483870967\r\n",
      "\tMedian: 479058\r\n",
      "\tStandard Deviation: 314119.18843616673\r\n",
      "\tUnique values: 31\r\n",
      "  2. Start station\r\n",
      "\t<class 'str'>\r\n",
      "\tNulls: False\r\n",
      "\tUnique values: 22\r\n",
      "\t5 most frequent values:\r\n",
      "\t\t14th & V St NW:\t5\r\n",
      "\t\t15th & P St NW:\t4\r\n",
      "\t\tNew Hampshire Ave & T St NW:\t2\r\n",
      "\t\t1st & H St NW:\t2\r\n",
      "\t\t3000 Connecticut Ave NW / National Zoo:\t1\r\n",
      "\tMax length: 44\r\n",
      "  3. End station\r\n",
      "\t<class 'str'>\r\n",
      "\tNulls: False\r\n",
      "\tValues: Massachusetts Ave & Dupont Circle NW\r\n",
      "\r\n",
      "Row count: 31\r\n"
     ]
    }
   ],
   "source": [
    "!head -1000 q1.csv | csvcut -c1,3,5 | csvgrep -c3 -m \"Dupont Circle\" | csvstat"
   ]
  },
  {
   "cell_type": "code",
   "execution_count": null,
   "metadata": {
    "collapsed": true
   },
   "outputs": [],
   "source": []
  }
 ],
 "metadata": {
  "kernelspec": {
   "display_name": "Python 3",
   "language": "python",
   "name": "python3"
  },
  "language_info": {
   "codemirror_mode": {
    "name": "ipython",
    "version": 3
   },
   "file_extension": ".py",
   "mimetype": "text/x-python",
   "name": "python",
   "nbconvert_exporter": "python",
   "pygments_lexer": "ipython3",
   "version": "3.5.2"
  }
 },
 "nbformat": 4,
 "nbformat_minor": 0
}
